{
 "cells": [
  {
   "cell_type": "code",
   "execution_count": 1,
   "metadata": {},
   "outputs": [
    {
     "name": "stdout",
     "output_type": "stream",
     "text": [
      "      type            title         country release_year rating  duration\n",
      "0    Movie  Norm of the ...   United States      missing     PG    91.071\n",
      "1    Movie  Jandino: Wha...  United Kingdom         2016      R    94.516\n",
      "2  TV Show  Transformers...   United States         2013      G     1.127\n",
      "3  TV Show  Transformers...   United States         2016  TV-14     1.687\n",
      "4    Movie  #realityhigh...   United States         2017  TV-14    99.248\n"
     ]
    }
   ],
   "source": [
    "import pandas as pd\n",
    "\n",
    "# Import dataset as a Pandas dataframe\n",
    "movies = pd.read_csv(\"netflix_movies.csv\", index_col=0)\n",
    "\n",
    "\n",
    "print(movies.head())"
   ]
  }
 ],
 "metadata": {
  "kernelspec": {
   "display_name": "Python 3",
   "language": "python",
   "name": "python3"
  },
  "language_info": {
   "codemirror_mode": {
    "name": "ipython",
    "version": 3
   },
   "file_extension": ".py",
   "mimetype": "text/x-python",
   "name": "python",
   "nbconvert_exporter": "python",
   "pygments_lexer": "ipython3",
   "version": "3.12.4"
  }
 },
 "nbformat": 4,
 "nbformat_minor": 2
}
